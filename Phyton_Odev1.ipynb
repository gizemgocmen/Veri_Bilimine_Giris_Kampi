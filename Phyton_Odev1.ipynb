{
 "cells": [
  {
   "cell_type": "code",
   "execution_count": 8,
   "id": "d141f057-f1c7-471a-b4d7-a9eeb3fb4c59",
   "metadata": {},
   "outputs": [
    {
     "name": "stdin",
     "output_type": "stream",
     "text": [
      "Lütfen adınızı giriniz : Gizem\n",
      "Lütfen yaşınızı girin : 20\n",
      "Lütfen bounuzu girin : 177\n"
     ]
    },
    {
     "name": "stdout",
     "output_type": "stream",
     "text": [
      "İsminiz => Gizem\n",
      "Yaşınız => 20\n",
      "Bouyunuz => 177.0\n"
     ]
    }
   ],
   "source": [
    " # soru1\n",
    "\n",
    "isim = str(input('Lütfen adınızı giriniz :'))\n",
    "yas = int(input('Lütfen yaşınızı girin :'))\n",
    "boy = float(input('Lütfen bounuzu girin :'))\n",
    "\n",
    "print('İsminiz =>' , isim)\n",
    "print('Yaşınız =>' , yas)\n",
    "print('Bouyunuz =>' , boy)"
   ]
  },
  {
   "cell_type": "code",
   "execution_count": 9,
   "id": "415cdbc7-c401-486f-bc7d-4ac713f96bd4",
   "metadata": {},
   "outputs": [
    {
     "name": "stdin",
     "output_type": "stream",
     "text": [
      "Lütfen matematik notunuzu yazın : 93\n",
      "Lütfen fizik notunuzu yazın : 35\n",
      "Lütfen kimya notunuzu yazın : 62\n"
     ]
    },
    {
     "name": "stdout",
     "output_type": "stream",
     "text": [
      "Girdiğiniz notların ortalaması => 63.333333333333336\n"
     ]
    }
   ],
   "source": [
    "# soru2\n",
    "\n",
    "matematik = int(input('Lütfen matematik notunuzu yazın :')) \n",
    "fizik = int(input('Lütfen fizik notunuzu yazın :'))\n",
    "kimya = int(input('Lütfen kimya notunuzu yazın :'))\n",
    "\n",
    "ortalama = (matematik + fizik + kimya)/3\n",
    "print('Girdiğiniz notların ortalaması =>' , float(ortalama))\n"
   ]
  },
  {
   "cell_type": "code",
   "execution_count": 12,
   "id": "9015006c-99d1-484a-bea1-6d6719b592d6",
   "metadata": {},
   "outputs": [
    {
     "name": "stdin",
     "output_type": "stream",
     "text": [
      "Lütfen bir kelime girin : AktüeryaBilimleri\n"
     ]
    },
    {
     "name": "stdout",
     "output_type": "stream",
     "text": [
      "Girdiğiniz kelimenin ilk karakteri => A\n",
      "Girdiğiniz kelimenin son karakteri => i\n",
      "Girdiğiniz kelimenin uzunluğu => 17\n",
      "Girdiğiniz kelimenin ters çevrilmiş hali => irelmiliBayreütkA\n"
     ]
    }
   ],
   "source": [
    "# soru3\n",
    "\n",
    "kelime = str(input('Lütfen bir kelime girin :'))\n",
    "\n",
    "ilk = kelime[0]\n",
    "son = kelime[-1]\n",
    "uzunluk = len(kelime)\n",
    "ters = (kelime[::-1])\n",
    "\n",
    "\n",
    "print('Girdiğiniz kelimenin ilk karakteri =>' , ilk)\n",
    "print('Girdiğiniz kelimenin son karakteri =>' , son)\n",
    "print('Girdiğiniz kelimenin uzunluğu =>' , uzunluk)\n",
    "print('Girdiğiniz kelimenin ters çevrilmiş hali =>' , ters)"
   ]
  },
  {
   "cell_type": "code",
   "execution_count": 15,
   "id": "7bc583ac-48cc-4e58-b6cd-2da1ae8f80c9",
   "metadata": {},
   "outputs": [
    {
     "name": "stdin",
     "output_type": "stream",
     "text": [
      "Lütfen bir sayı giriniz : 10\n",
      "Lütfen bir sayı daha giriniz : 3\n"
     ]
    },
    {
     "name": "stdout",
     "output_type": "stream",
     "text": [
      "Girdiğiniz sayıların toplamı => 13.0\n",
      "Girdiğiniz sayıların farkı => 7.0\n",
      "Girdiğiniz sayıların çarpımı => 30.0\n",
      "Girdiğiniz sayıların bölümü => 3.3333333333333335\n",
      "Girdiğiniz sayıların modu => 1.0\n"
     ]
    }
   ],
   "source": [
    "# soru4\n",
    "\n",
    "x = int(input('Lütfen bir sayı giriniz :'))\n",
    "y = int(input('Lütfen bir sayı daha giriniz :'))\n",
    "\n",
    "print('Girdiğiniz sayıların toplamı =>' , float(x+y))\n",
    "print('Girdiğiniz sayıların farkı =>' , float(x-y))\n",
    "print('Girdiğiniz sayıların çarpımı =>' , float(x*y))\n",
    "print('Girdiğiniz sayıların bölümü =>' , float(x/y))\n",
    "print('Girdiğiniz sayıların modu =>' ,float(x%y))\n"
   ]
  },
  {
   "cell_type": "code",
   "execution_count": 3,
   "id": "ef7ca70e-8e88-4f0f-8766-9dae2f0ae8ec",
   "metadata": {},
   "outputs": [
    {
     "name": "stdin",
     "output_type": "stream",
     "text": [
      "Lütfen matematik ortalamanızı yazınız : 83\n",
      "Lütfen fizik ortalamanızı yazınız : 76\n",
      "Lütfen kimya ortalamanızı yazınız : 32\n"
     ]
    },
    {
     "name": "stdout",
     "output_type": "stream",
     "text": [
      "matematikten => geçtiniz\n",
      "fizikten => geçtiniz\n",
      "kimyadan => kaldınız\n"
     ]
    }
   ],
   "source": [
    "# soru5\n",
    "\n",
    "mat_ort = float(input('Lütfen matematik ortalamanızı yazınız :'))\n",
    "fizik_ort = float(input('Lütfen fizik ortalamanızı yazınız :'))\n",
    "kimya_ort = float(input('Lütfen kimya ortalamanızı yazınız :'))\n",
    "\n",
    "print('matematikten =>', 'kaldınız' if mat_ort < 50 else 'geçtiniz')\n",
    "print('fizikten =>' , 'kaldınız' if fizik_ort <50 else 'geçtiniz')\n",
    "print('kimyadan =>' , 'kaldınız' if kimya_ort < 50 else 'geçtiniz')\n",
    "                  "
   ]
  },
  {
   "cell_type": "code",
   "execution_count": 19,
   "id": "0170a86d-2d62-4998-9600-78a6fd31e4be",
   "metadata": {},
   "outputs": [
    {
     "name": "stdin",
     "output_type": "stream",
     "text": [
      "Lütfen yaşınızı giriniz : 20\n"
     ]
    },
    {
     "name": "stdout",
     "output_type": "stream",
     "text": [
      "Ehliyet alabilirsiniz\n"
     ]
    }
   ],
   "source": [
    "# soru6\n",
    "\n",
    "yas = int(input('Lütfen yaşınızı giriniz :'))\n",
    "\n",
    "print('Ehliyet alabilirsiniz'  if yas >= 18 else 'Ehliyet alamazsınız')\n",
    "\n"
   ]
  },
  {
   "cell_type": "code",
   "execution_count": 8,
   "id": "75de0c5d-4b17-4797-b19d-d6d91812f6b9",
   "metadata": {},
   "outputs": [
    {
     "name": "stdin",
     "output_type": "stream",
     "text": [
      "Lütfen ürünün fiyatını giriniz : 100\n",
      "Lütfen indirim oranını yüzde olarak yazınız 20\n"
     ]
    },
    {
     "name": "stdout",
     "output_type": "stream",
     "text": [
      "Ürünün noraml fiyatı => 100.0\n",
      "Ürünün indirim oranı => % 20.0\n",
      "Ürünün indirimli fiyatı => 80.0\n"
     ]
    }
   ],
   "source": [
    "# soru7\n",
    "\n",
    "fiyat = float(input('Lütfen ürünün fiyatını giriniz :'))\n",
    "indirim = float(input('Lütfen indirim oranını yüzde olarak yazınız'))\n",
    "\n",
    "print('Ürünün noraml fiyatı =>' , fiyat)\n",
    "print('Ürünün indirim oranı => %' , indirim)\n",
    "print('Ürünün indirimli fiyatı =>' , fiyat - (fiyat * indirim / 100))"
   ]
  },
  {
   "cell_type": "code",
   "execution_count": 6,
   "id": "f8a5396e-65b8-4439-b9de-b8ce3fe24fe8",
   "metadata": {},
   "outputs": [
    {
     "name": "stdout",
     "output_type": "stream",
     "text": [
      "a and b => False\n",
      "a or b => True\n",
      "not a => False\n",
      "not b => True\n"
     ]
    }
   ],
   "source": [
    "# soru8\n",
    "\n",
    "a = True\n",
    "b = False\n",
    "\n",
    "print('a and b =>' , a and b)\n",
    "print('a or b =>' , a or b)\n",
    "print('not a =>' , not a)\n",
    "print('not b =>' , not b)"
   ]
  },
  {
   "cell_type": "code",
   "execution_count": 22,
   "id": "4ff6ee63-9638-49e8-8498-2a22a2333913",
   "metadata": {},
   "outputs": [
    {
     "name": "stdin",
     "output_type": "stream",
     "text": [
      "Lütfen ilk ürünün fiyatını giriniz 60\n",
      "Lütfen ikinci ürünün fiyatını giriniz 40\n",
      "Lütfen üçüncü ürünün fiyatını giriniz 100\n"
     ]
    },
    {
     "name": "stdout",
     "output_type": "stream",
     "text": [
      "Toplam ödenicek tutar => 180.0\n"
     ]
    }
   ],
   "source": [
    "# soru9\n",
    "\n",
    "ürün1 = int(input('Lütfen ilk ürünün fiyatını giriniz'))\n",
    "ürün2 = int(input('Lütfen ikinci ürünün fiyatını giriniz'))\n",
    "ürün3 = int(input('Lütfen üçüncü ürünün fiyatını giriniz'))\n",
    "toplam = ürün1 + ürün2 + ürün3\n",
    "\n",
    "print('Toplam ödenicek tutar =>' , toplam * 90 / 100 if toplam >= 200 else toplam )"
   ]
  },
  {
   "cell_type": "code",
   "execution_count": 4,
   "id": "cda32452-9d69-4386-9451-6f2a74b175bb",
   "metadata": {},
   "outputs": [
    {
     "name": "stdin",
     "output_type": "stream",
     "text": [
      "Lütfen doğum yılınızı giriniz : 2005\n"
     ]
    },
    {
     "name": "stdout",
     "output_type": "stream",
     "text": [
      "Yetişkinsiniz\n"
     ]
    }
   ],
   "source": [
    "# soru10\n",
    "\n",
    "yıl = int(input('Lütfen doğum yılınızı giriniz :'))\n",
    "yas = 2025 - yıl\n",
    "sonuc = (yas >= 0 and yas <= 12 and \"Çocuksunuz\") or \\\n",
    "        (yas >= 13 and yas <= 17 and \"Ergensiniz\") or \\\n",
    "        (yas >= 18 and \"Yetişkinsiniz\")\n",
    "\n",
    "print(sonuc)"
   ]
  }
 ],
 "metadata": {
  "kernelspec": {
   "display_name": "Python 3 (ipykernel)",
   "language": "python",
   "name": "python3"
  },
  "language_info": {
   "codemirror_mode": {
    "name": "ipython",
    "version": 3
   },
   "file_extension": ".py",
   "mimetype": "text/x-python",
   "name": "python",
   "nbconvert_exporter": "python",
   "pygments_lexer": "ipython3",
   "version": "3.13.5"
  }
 },
 "nbformat": 4,
 "nbformat_minor": 5
}
