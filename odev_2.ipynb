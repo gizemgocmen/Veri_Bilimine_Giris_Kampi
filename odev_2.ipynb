{
 "cells": [
  {
   "cell_type": "code",
   "execution_count": null,
   "id": "0e242d8b",
   "metadata": {},
   "outputs": [
    {
     "name": "stdout",
     "output_type": "stream",
     "text": [
      "Girdğiniz sayi => 25\n",
      "Sayiniz Pozitif tek\n"
     ]
    }
   ],
   "source": [
    "# Soru 1 => Sayı Analizi\n",
    "# Kullanıcıdan bir sayı isteyin.\n",
    "# • Sayı pozitif, negatif ya da sıfır mı kontrol edin.\n",
    "# • Aynı zamanda tek/çift olup olmadığını da belirtin.\n",
    "# • Çıktı örneği: \"Pozitif Çift\" veya \"Negatif Tek\" gibi.\n",
    "\n",
    "a = int(input('Bir sayi giriniz :'))\n",
    "if a > 0 :\n",
    "    pozitiflik = 'Pozitif'\n",
    "elif a == 0 :\n",
    "    pozitiflik = 'Nötr'\n",
    "else :\n",
    "    pozitiflik = 'Negatif'\n",
    "if a != 0 :\n",
    "    if a %2 ==0:\n",
    "        teklik= \"Çift\"\n",
    "    else:\n",
    "        teklik = \"Tek\"\n",
    "print(\"Girdğiniz sayi =>\" ,a)\n",
    "print(\"Sayiniz\", pozitiflik , teklik)\n"
   ]
  },
  {
   "cell_type": "code",
   "execution_count": 9,
   "id": "9ded15ab",
   "metadata": {},
   "outputs": [
    {
     "name": "stdout",
     "output_type": "stream",
     "text": [
      "'aktüerya' kelimesinin harf frekanslari => {'a': 2, 'k': 1, 't': 1, 'ü': 1, 'e': 1, 'r': 1, 'y': 1}\n"
     ]
    }
   ],
   "source": [
    "# Soru 2 => Harf Frekansı (String)\n",
    "# Kullanıcıdan bir kelime alın.\n",
    "# • Hangi harften kaç tane geçtiğini bulun.\n",
    "# • Sonucu dictionary olarak gösterin.\n",
    "# Örnek: \"data\" → {'d': 1, 'a': 2, 't': 1}\n",
    "\n",
    "kelime = str(input(\"lütfen bir kelime giriniz: \"))\n",
    "frekans = {}\n",
    "for harf in kelime:\n",
    "    if harf in frekans:\n",
    "        frekans[harf] += 1\n",
    "    else:\n",
    "        frekans[harf] = 1\n",
    "\n",
    "print(f\"'{kelime}' kelimesinin harf frekanslari => {frekans}\")\n",
    "\n",
    "  "
   ]
  },
  {
   "cell_type": "code",
   "execution_count": null,
   "id": "ce8ce7b0",
   "metadata": {},
   "outputs": [
    {
     "name": "stdout",
     "output_type": "stream",
     "text": [
      "Girdiğiniz şifre => Aktüerya0\n",
      "Şifre geçerli! ✅\n"
     ]
    }
   ],
   "source": [
    "# Soru 3 => Şifre Kontrolü (String Metotları)\n",
    "# Kullanıcıdan şifre girmesini isteyin. Şifre:\n",
    "# • En az 8 karakter olmalı\n",
    "# • En az 1 büyük harf içermeli\n",
    "# • En az 1 rakam içermeli\n",
    "# Koşulları sağlayıp sağlamadığına göre kullanıcıyı bilgilendirin.\n",
    "\n",
    "sifre = input(\"Şifrenizi girin :\")\n",
    "\n",
    "uzunluk = len(sifre) >= 8\n",
    "buyuk_harf = False\n",
    "rakam = False\n",
    "\n",
    "for karakter in sifre:\n",
    "    if karakter.isupper():  \n",
    "        buyuk_harf = True\n",
    "    if karakter.isdigit():  \n",
    "        rakam = True\n",
    "print (\"Girdiğiniz şifre =>\" , sifre)\n",
    "if uzunluk and buyuk_harf and rakam:\n",
    "    print(\"Şifre geçerli! ✅\")\n",
    "else:\n",
    "    print(\"Şifre geçersiz! ❌\")\n",
    "    \n",
    "    # Hata mesajlarını göster\n",
    "    if not uzunluk:\n",
    "        print(\"- En az 8 karakter olmali\")\n",
    "    if not buyuk_harf:\n",
    "        print(\"- En az 1 büyük harf içermeli\")\n",
    "    if not rakam:\n",
    "        print(\"- En az 1 rakam içermeli\")"
   ]
  },
  {
   "cell_type": "code",
   "execution_count": 17,
   "id": "5f70b8f4",
   "metadata": {},
   "outputs": [
    {
     "name": "stdout",
     "output_type": "stream",
     "text": [
      "Ortalama => 15.0\n",
      "Ortalamadan büyük sayilar => [25, 30, 18]\n"
     ]
    }
   ],
   "source": [
    "# Soru 4 => Liste İşlemleri\n",
    "# [12, 4, 9, 25, 30, 7, 18] listesini kullanın.\n",
    "# • Listenin ortalamasını bulun.\n",
    "# • Ortalamadan büyük sayıları ayrı bir listeye atın.\n",
    "# • Sonucu ekrana yazdırın.\n",
    "\n",
    "sayilar = [12, 4, 9, 25, 30, 7, 18]\n",
    "\n",
    "toplam = 0\n",
    "for sayi in sayilar:\n",
    "    toplam += sayi\n",
    "\n",
    "ortalama = toplam / len(sayilar)\n",
    "\n",
    "buyuk_sayilar = []\n",
    "for sayi in sayilar:\n",
    "    if sayi > ortalama:\n",
    "        buyuk_sayilar.append(sayi)\n",
    "\n",
    "print(\"Ortalama =>\", ortalama)\n",
    "print(\"Ortalamadan büyük sayilar =>\", buyuk_sayilar)"
   ]
  },
  {
   "cell_type": "code",
   "execution_count": null,
   "id": "05c1ae6b",
   "metadata": {},
   "outputs": [
    {
     "name": "stdout",
     "output_type": "stream",
     "text": [
      "*\n",
      "**\n",
      "***\n",
      "****\n",
      "*****\n"
     ]
    }
   ],
   "source": [
    "# Soru 5 => Nested Loop (Desen)\n",
    "# Aşağıdaki çıktıyı üreten programı yazın (üçgen desen):\n",
    "# *\n",
    "# **\n",
    "# ***\n",
    "# ****\n",
    "# *****\n",
    "\n",
    "for i in range (1, 6):\n",
    "    for j in range(i):\n",
    "        print(\"*\", end=\"\")\n",
    "    print()"
   ]
  },
  {
   "cell_type": "code",
   "execution_count": null,
   "id": "660d6603",
   "metadata": {},
   "outputs": [
    {
     "name": "stdout",
     "output_type": "stream",
     "text": [
      "Toplam => 138\n",
      "Ortalama => 27.6\n"
     ]
    }
   ],
   "source": [
    "# Soru 6 => While Döngüsü\n",
    "# Kullanıcıdan sürekli sayı isteyin.\n",
    "# • Kullanıcı 0 girdiğinde program dursun.\n",
    "# • Girilen tüm sayıların toplamını ve ortalamasını yazdırın.\n",
    "\n",
    "toplam = 0\n",
    "sayac = 0\n",
    "\n",
    "while True:\n",
    "    sayi = int(input(\"Bir sayi girin (Çikmak için 0 giriniz): \"))\n",
    "    \n",
    "    if sayi == 0:\n",
    "        break\n",
    "    \n",
    "    toplam += sayi\n",
    "    sayac += 1\n",
    "\n",
    "if sayac > 0:\n",
    "    ortalama = toplam / sayac\n",
    "    print(f\"Toplam => {toplam}\")\n",
    "    print(f\"Ortalama => {ortalama}\")\n",
    "else:\n",
    "    print(\"Hiç sayi girilmedi\")"
   ]
  },
  {
   "cell_type": "code",
   "execution_count": null,
   "id": "6c946b5d",
   "metadata": {},
   "outputs": [
    {
     "name": "stdout",
     "output_type": "stream",
     "text": [
      "Girdiğiniz kelime => asa\n",
      "Palindrom ✅\n"
     ]
    }
   ],
   "source": [
    "# Soru 7 => Palindrom Kontrolü\n",
    "# Kullanıcıdan bir kelime isteyin.\n",
    "# • Kelimenin palindrom olup olmadığını kontrol edin.\n",
    "# • Örnek: \"kayak\" → Palindrom ✅, \"python\" → Değil ❌\n",
    "\n",
    "kelime = input(\"Bir kelime girin: \")\n",
    "print (\"Girdiğiniz kelime =>\" , kelime)\n",
    "\n",
    "ters_kelime = \"\"\n",
    "for i in range(len(kelime)-1, -1, -1):\n",
    "    ters_kelime += kelime[i]\n",
    "\n",
    "if kelime == ters_kelime:\n",
    "    print(\"Palindrom ✅\")\n",
    "else:\n",
    "    print(\"Değil ❌\")"
   ]
  },
  {
   "cell_type": "code",
   "execution_count": null,
   "id": "6f7bb93e",
   "metadata": {},
   "outputs": [
    {
     "name": "stdout",
     "output_type": "stream",
     "text": [
      "[225, 900, 2025, 3600, 5625, 8100]\n"
     ]
    }
   ],
   "source": [
    "# Soru 8 => List Comprehension\n",
    "# 1’den 100’e kadar olan sayılardan:\n",
    "# • Hem 3’e hem 5’e bölünebilenlerin karelerini içeren bir liste oluşturun.\n",
    "# • Sonucu ekrana yazdırın.\n",
    "\n",
    "liste = [x*x for x in range(1, 101) if x % 3 == 0 and x % 5 == 0]\n",
    "print (liste)\n"
   ]
  },
  {
   "cell_type": "code",
   "execution_count": 29,
   "id": "b813655a",
   "metadata": {},
   "outputs": [
    {
     "name": "stdout",
     "output_type": "stream",
     "text": [
      "Girdiğiniz cümle => hacettepeli olmak dert olmamak başka dert\n",
      "Yeni cümle => Hacettepeli Olmak Dert Olmamak Başka Dert\n"
     ]
    }
   ],
   "source": [
    "# Soru 9 => String İşlemleri\n",
    "# Bir cümle alın.\n",
    "# • Cümledeki kelimeleri split() ile ayırın.\n",
    "# • Her kelimenin ilk harfini büyük yaparak yeni bir string oluşturun.\n",
    "# • Örnek: \"python veri bilimi\" → \"Python Veri Bilimi\"\n",
    "\n",
    "cumle = input(\"Bir cümle girin: \")\n",
    "print (\"Girdiğiniz cümle =>\" , cumle)\n",
    "kelimeler = cumle.split()\n",
    "yeni_cumle = \"\"\n",
    "\n",
    "for kelime in kelimeler:\n",
    "    if kelime:\n",
    "        yeni_cumle += kelime[0].upper() + kelime[1:] + \" \"\n",
    "\n",
    "print(\"Yeni cümle =>\" , yeni_cumle.strip())"
   ]
  },
  {
   "cell_type": "code",
   "execution_count": 30,
   "id": "fa6bf248",
   "metadata": {},
   "outputs": [
    {
     "name": "stdout",
     "output_type": "stream",
     "text": [
      "Toplam yorum sayisi => 3\n",
      "\"iyi\" geçen yorum sayisi => 0\n",
      "En uzun yorum => selam\n",
      "En kisa yorum => sayı\n",
      "Ortalama uzunluk => 4.7 karakter\n"
     ]
    }
   ],
   "source": [
    "# Proje Tanımı:\n",
    "# Kullanıcıdan birkaç film yorumu alın (örneğin 5–6 yorum).\n",
    "# - Yorumları bir listeye atın.\n",
    "# - Her yorumun uzunluğunu (karakter sayısı) bulun.\n",
    "# - Kaç yorumda \"iyi\" kelimesi geçtiğini sayın.\n",
    "# - En uzun yorumu ve en kısa yorumu ekrana yazdırın.\n",
    "# - Tüm yorumların ortalama uzunluğunu hesaplayın.\n",
    "\n",
    "yorumlar = []\n",
    "adet = int(input(\"Kaç yorum gireceksiniz? \"))\n",
    "\n",
    "for i in range(adet):\n",
    "    yorum = input(f\"{i+1}. yorumu giriniz: \")\n",
    "    yorumlar.append(yorum)\n",
    "\n",
    "toplam = len(yorumlar)\n",
    "\n",
    "iyi_sayisi = 0\n",
    "for y in yorumlar:\n",
    "    if \"iyi\" in y.lower():\n",
    "        iyi_sayisi += 1\n",
    "\n",
    "en_uzun = yorumlar[0]\n",
    "en_kisa = yorumlar[0]\n",
    "\n",
    "for y in yorumlar:\n",
    "    if len(y) > len(en_uzun):\n",
    "        en_uzun = y\n",
    "    if len(y) < len(en_kisa):\n",
    "        en_kisa = y\n",
    "\n",
    "toplam_uzunluk = 0\n",
    "for y in yorumlar:\n",
    "    toplam_uzunluk += len(y)\n",
    "ortalama = toplam_uzunluk / toplam\n",
    "\n",
    "print(\"Toplam yorum sayisi =>\", toplam)\n",
    "print('\"iyi\" geçen yorum sayisi =>' , iyi_sayisi)\n",
    "print(\"En uzun yorum =>\", en_uzun)\n",
    "print(\"En kisa yorum =>\", en_kisa)\n",
    "print(\"Ortalama uzunluk =>\", round(ortalama, 1), \"karakter\")"
   ]
  },
  {
   "cell_type": "code",
   "execution_count": null,
   "id": "0c7f8296",
   "metadata": {},
   "outputs": [],
   "source": []
  }
 ],
 "metadata": {
  "kernelspec": {
   "display_name": "base",
   "language": "python",
   "name": "python3"
  },
  "language_info": {
   "codemirror_mode": {
    "name": "ipython",
    "version": 3
   },
   "file_extension": ".py",
   "mimetype": "text/x-python",
   "name": "python",
   "nbconvert_exporter": "python",
   "pygments_lexer": "ipython3",
   "version": "3.13.5"
  }
 },
 "nbformat": 4,
 "nbformat_minor": 5
}
